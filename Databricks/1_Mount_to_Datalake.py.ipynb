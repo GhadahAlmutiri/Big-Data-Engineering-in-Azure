{
 "cells": [
  {
   "cell_type": "markdown",
   "metadata": {
    "application/vnd.databricks.v1+cell": {
     "cellMetadata": {},
     "inputWidgets": {},
     "nuid": "171d9f58-e796-4605-825b-54591f257a05",
     "showTitle": false,
     "title": ""
    }
   },
   "source": [
    "# Mount the Azure blob storage container to the specified mount point "
   ]
  },
  {
   "cell_type": "code",
   "execution_count": 0,
   "metadata": {
    "application/vnd.databricks.v1+cell": {
     "cellMetadata": {
      "byteLimit": 2048000,
      "rowLimit": 10000
     },
     "inputWidgets": {},
     "nuid": "f16b8fcf-1d61-4e21-88ef-afcbf78667fb",
     "showTitle": false,
     "title": ""
    }
   },
   "outputs": [],
   "source": [
    "# Databricks notebook source\n",
    "StrgAccName = \"capstonedlstorage\"\n",
    "ContnrName = \"mydatalakefilesystem\"\n",
    "MntPoint = \"/mnt/mydatalakefilesystem\"  \n",
    "ScrtKey = dbutils.secrets.get(scope=\"akv-scope\", key=\"my-blob-access-key\")\n",
    "\n",
    "if not any(mount.mountPoint == MntPoint for mount in dbutils.fs.mounts()):\n",
    "  try:\n",
    "    dbutils.fs.mount(\n",
    "      source = f\"wasbs://{ContnrName}@{StrgAccName}.blob.core.windows.net\",\n",
    "      mount_point = MntPoint,\n",
    "      extra_configs = {f\"fs.azure.account.key.{StrgAccName}.blob.core.windows.net\": ScrtKey}\n",
    "    )\n",
    "    print(\"Mount succeeded!\")\n",
    "  except Exception as e:\n",
    "    print(\"Mount exception:\", e)\n"
   ]
  }
 ],
 "metadata": {
  "application/vnd.databricks.v1+notebook": {
   "dashboards": [],
   "environmentMetadata": null,
   "language": "python",
   "notebookMetadata": {
    "pythonIndentUnit": 4
   },
   "notebookName": "1_Mount_to_Datalake.py",
   "widgets": {}
  }
 },
 "nbformat": 4,
 "nbformat_minor": 0
}
